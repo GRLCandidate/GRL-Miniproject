{
 "cells": [
  {
   "cell_type": "markdown",
   "id": "3c692225",
   "metadata": {},
   "source": [
    "# Prepare dependencies and utilities"
   ]
  },
  {
   "cell_type": "code",
   "execution_count": null,
   "id": "669845b1",
   "metadata": {},
   "outputs": [],
   "source": [
    "from torch.autograd import Variable\n",
    "from torch_geometric.datasets import TUDataset\n",
    "import torch\n",
    "import torch.nn as nn\n",
    "import torch_geometric.nn as gnn\n",
    "import torch_geometric.utils as U\n",
    "import math\n",
    "import matplotlib.pyplot as plt\n",
    "import networkx as nx\n",
    "import scipy.stats\n",
    "\n",
    "import importlib\n",
    "import infra  # local source file with training & plotting infrastructure\n",
    "importlib.reload(infra);"
   ]
  },
  {
   "cell_type": "markdown",
   "id": "95cbd198",
   "metadata": {},
   "source": [
    "# Define hyperparameters"
   ]
  },
  {
   "cell_type": "code",
   "execution_count": null,
   "id": "def8674d",
   "metadata": {},
   "outputs": [],
   "source": [
    "num_epochs = 64"
   ]
  },
  {
   "cell_type": "markdown",
   "id": "7d34f57a",
   "metadata": {},
   "source": [
    "# Test framework on TUDataset"
   ]
  },
  {
   "cell_type": "code",
   "execution_count": null,
   "id": "d0308a28",
   "metadata": {},
   "outputs": [],
   "source": [
    "tu_dataset = TUDataset(root='data/TUDataset', name='MUTAG')\n",
    "tu_labels = ['C', 'N', 'O', 'F', 'I', 'Cl', 'Br']\n",
    "tu_example_idx = 24"
   ]
  },
  {
   "cell_type": "code",
   "execution_count": null,
   "id": "e63ab782",
   "metadata": {},
   "outputs": [],
   "source": [
    "len(tu_dataset)"
   ]
  },
  {
   "cell_type": "code",
   "execution_count": null,
   "id": "a39898de",
   "metadata": {},
   "outputs": [],
   "source": [
    "tu_model = gnn.Sequential('x, edge_index', [\n",
    "    (gnn.GCN(\n",
    "        in_channels=7,\n",
    "        hidden_channels=50,\n",
    "        num_layers=5,\n",
    "        out_channels=50,\n",
    "        dropout=0\n",
    "    ), 'x, edge_index -> x'),\n",
    "    (lambda x: torch.sum(x, dim=0), 'x -> x'),\n",
    "    (nn.Linear(50, 2), 'x -> x')\n",
    "])"
   ]
  },
  {
   "cell_type": "code",
   "execution_count": null,
   "id": "e6187db7",
   "metadata": {
    "scrolled": true
   },
   "outputs": [],
   "source": [
    "tu_accuracies = infra.train(tu_model, tu_dataset, num_epochs=num_epochs)"
   ]
  },
  {
   "cell_type": "code",
   "execution_count": null,
   "id": "60136781",
   "metadata": {},
   "outputs": [],
   "source": [
    "data = tu_dataset[tu_example_idx]\n",
    "pos = infra.plot_graph(data, infra.get_grad(data, tu_model), rows=2, labels=tu_labels)"
   ]
  },
  {
   "cell_type": "markdown",
   "id": "84065c96",
   "metadata": {},
   "source": [
    "# Now do the same with GANs"
   ]
  },
  {
   "cell_type": "code",
   "execution_count": null,
   "id": "30c5df8a",
   "metadata": {},
   "outputs": [],
   "source": [
    "tu_gan_model = gnn.Sequential('x, edge_index', [\n",
    "    (gnn.GAT(\n",
    "        in_channels=7,\n",
    "        hidden_channels=50,\n",
    "        num_layers=5,\n",
    "        out_channels=50,\n",
    "        dropout=0\n",
    "    ), 'x, edge_index -> x'),\n",
    "    (lambda x: torch.sum(x, dim=0), 'x -> x'),\n",
    "    (nn.Linear(50, 2), 'x -> x')\n",
    "])"
   ]
  },
  {
   "cell_type": "code",
   "execution_count": null,
   "id": "797106b5",
   "metadata": {},
   "outputs": [],
   "source": [
    "tu_gan_accuracies = infra.train(tu_gan_model, tu_dataset, num_epochs=num_epochs)"
   ]
  },
  {
   "cell_type": "code",
   "execution_count": null,
   "id": "112e773e",
   "metadata": {},
   "outputs": [],
   "source": [
    "data = tu_dataset[tu_example_idx]\n",
    "infra.plot_graph(data, infra.get_grad(data, tu_gan_model), rows=2, pos=pos, labels=tu_labels);"
   ]
  },
  {
   "cell_type": "markdown",
   "id": "d6d05f8e",
   "metadata": {},
   "source": [
    "---"
   ]
  },
  {
   "cell_type": "markdown",
   "id": "15d7eb48",
   "metadata": {},
   "source": [
    "# Calculate saliency map statistics"
   ]
  },
  {
   "cell_type": "code",
   "execution_count": null,
   "id": "38bd4eb9",
   "metadata": {},
   "outputs": [],
   "source": [
    "gcn_grads = []\n",
    "for data in tu_dataset:\n",
    "    grad = infra.get_grad(data, tu_model)\n",
    "    gcn_grads += grad.flatten().tolist()\n",
    "print(f\"std gcn: {torch.tensor(gcn_grads).std()}\")\n",
    "gan_grads = []\n",
    "for data in tu_dataset:\n",
    "    grad = infra.get_grad(data, tu_gan_model)\n",
    "    gan_grads += grad.flatten().tolist()\n",
    "print(f\"std gan: {torch.tensor(gan_grads).std()}\")"
   ]
  },
  {
   "cell_type": "code",
   "execution_count": null,
   "id": "2eeb411b",
   "metadata": {},
   "outputs": [],
   "source": [
    "hist_kwargs = {'histtype': 'step', 'range': (-1, 1), 'bins': 64, 'density': False, 'stacked': False}"
   ]
  },
  {
   "cell_type": "code",
   "execution_count": null,
   "id": "c4b95cda",
   "metadata": {},
   "outputs": [],
   "source": [
    "plt.figure(figsize=(4,3))\n",
    "plt.hist([gcn_grads, gan_grads], **hist_kwargs)\n",
    "plt.legend(['GCN', 'GAN'])\n",
    "plt.savefig('./3-hist.pdf')"
   ]
  },
  {
   "cell_type": "code",
   "execution_count": null,
   "id": "c8c8e13e",
   "metadata": {},
   "outputs": [],
   "source": [
    "scipy.stats.kurtosis(gcn_grads)"
   ]
  },
  {
   "cell_type": "code",
   "execution_count": null,
   "id": "2eeddaf2",
   "metadata": {},
   "outputs": [],
   "source": [
    "scipy.stats.kurtosis(gan_grads)"
   ]
  },
  {
   "cell_type": "code",
   "execution_count": null,
   "id": "0f282b66",
   "metadata": {},
   "outputs": [],
   "source": []
  }
 ],
 "metadata": {
  "kernelspec": {
   "display_name": "Python 3 (ipykernel)",
   "language": "python",
   "name": "python3"
  },
  "language_info": {
   "codemirror_mode": {
    "name": "ipython",
    "version": 3
   },
   "file_extension": ".py",
   "mimetype": "text/x-python",
   "name": "python",
   "nbconvert_exporter": "python",
   "pygments_lexer": "ipython3",
   "version": "3.10.8"
  }
 },
 "nbformat": 4,
 "nbformat_minor": 5
}
